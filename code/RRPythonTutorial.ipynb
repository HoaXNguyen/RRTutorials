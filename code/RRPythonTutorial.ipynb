{
 "cells": [
  {
   "cell_type": "markdown",
   "id": "81c6dda8",
   "metadata": {},
   "source": [
    "I. Short introduction in programming with Python\n",
    "\n",
    "Python is a general purpose programming language that supports rapid development of data analytics applications. The word “Python” is used to refer to both, the programming language and the tool that executes the scripts written in Python language.\n",
    "\n",
    "Its main advantages are:\n",
    "\n",
    "Free\n",
    "Open-source\n",
    "Available on all major platforms (macOS, Linux, Windows)\n",
    "Supported by Python Software Foundation\n",
    "Supports multiple programming paradigms\n",
    "Has large community\n",
    "Rich ecosystem of third-party packages\n"
   ]
  },
  {
   "cell_type": "markdown",
   "id": "9d20723d",
   "metadata": {},
   "source": [
    "II. Starting with data\n",
    "\n",
    "For this tutorial, we will be using the SCADA data, a subset of the data from a wind turbine in Kelmarsh Wind Farm in Northamptonshire (England), United-Kingdom. We will use the wind speed and wind power data caught in sites. The dataset is stored as a .csv file: each row holds information for a single data feature (in column) from 1/1/2022 to 31/5/2022.\n",
    "\n",
    "We will be using files from the Github repository https://github.com/HoaXNguyen/RRTutorials/tree/main. This section will use the .csv files in two folders: https://github.com/HoaXNguyen/RRTutorials/tree/main/data/Kelmarsh_SCADA_2022 and https://github.com/HoaXNguyen/RRTutorials/tree/main/data/Kelmarsh_SCADA_2022_clean."
   ]
  },
  {
   "cell_type": "code",
   "execution_count": 1,
   "id": "41d0b4c2",
   "metadata": {},
   "outputs": [],
   "source": [
    "# Import required packages\n",
    "\n",
    "import pandas as pd\n",
    "import matplotlib as plt\n",
    "import os"
   ]
  },
  {
   "cell_type": "code",
   "execution_count": 2,
   "id": "2185c7f8",
   "metadata": {},
   "outputs": [
    {
     "name": "stdout",
     "output_type": "stream",
     "text": [
      "/Users/mac/Downloads/RRTutorials/code\n"
     ]
    }
   ],
   "source": [
    "# Check where is this code\n",
    "\n",
    "print(os.getcwd()) # /Users/mac/Downloads/RRTutorials/code\n"
   ]
  },
  {
   "cell_type": "markdown",
   "id": "15d546a6",
   "metadata": {},
   "source": [
    "III. Data organisation\n",
    "\n",
    "Data format is crucial when one starts working with the data. Saving the data in the right format not only helps subsequent tasks easier but also helps other to reproduce your code. Good data organization is the foundation of your research project. \n",
    "\n",
    "If data is save in a poor format, which other can not read, load, and understand, you definitely need to save it with better format.\n",
    "\n",
    "Next cell shows an example of a poor saving format which leads to the problem for the others to know the features of the data. Examples show the data header has mixed format, space, \"\", etc.. making pandas cannot load all cells correctly. This is due to poor data file format which can be improved to make dataset readable and reproducible.\n",
    "\n",
    "Good practice for data organisation:\n",
    "- Create a new file with your cleaned or analyzed data. Don’t modify the original dataset, or you will never know where you started! There are two folders to save data in data folder.\n",
    "- Keep track of the steps you took in your clean up or analysis. You should track these steps as you would any step in an experiment. We recommend that you do this in a plain text file stored in the same folder as the data file. The history of data is save in .txt file.\n",
    "- Structure data in the file. (a) Put all your variables in columns - the thing you’re measuring, like ‘weight’ or ‘temperature’. (b) Put each observation in its own row. (c)Don’t combine multiple pieces of information in one cell. Sometimes it just seems like one thing, but think if that’s the only way you’ll want to be able to use or sort that data. (d) Leave the raw data raw - don’t change it! (e)Export the cleaned data to a text-based format like CSV (comma-separated values) format. This ensures that anyone can use the data, and is required by most data repositories.\n",
    "- Not filling with zero: To the computer, a zero is actually data. You measured or counted it. A blank cell means that it wasn’t measured and the computer will interpret it as an unknown value (otherwise known as a null value).\n",
    "- Null values get represented differently within a dataset. Blank cells are the best choices for most applications; when working in R, NA may be an acceptable null value choice.\n",
    "- Unit: save unit of each data feature in text file. Similarly, don’t include units in working text file: ideally, all the measurements you place in one column should be in the same unit, but if for some reason they aren’t, create another field and specify the units the cell is in.\n",
    "- Dont use problematic field names: Choose descriptive field names, but be careful not to include spaces, numbers, or special characters of any kind. Spaces can be misinterpreted by parsers that use whitespace as delimiters and some programs don’t like field names that are text strings that start with numbers. Underscores (_) are a good alternative to spaces. Consider writing names in camel case (like this: ExampleFileName) to improve readability. \n",
    "- It is much safer to store dates with YEAR, MONTH, DAY in separate columns or as YEAR and DAY-OF-YEAR in separate columns.\n",
    "- Quality control: Quality assurance stops bad data from ever being entered by checking to see if values are valid during data entry. \n",
    "\n",
    "We will begin by locating and reading our data which are in CSV format. CSV stands for Comma-Separated Values and is a common way to store formatted data. Other symbols may also be used, so you might see tab-separated, colon-separated or space separated files. pandas package can work with each of these types of separators, as it allows you to specify the appropriate separator for your data. CSV files (and other -separated value file types) make it easy to share data, and can be imported and exported from many applications, including Microsoft Excel. We can use Pandas’ read_csv function to pull the file directly into a DataFrame.\n"
   ]
  },
  {
   "cell_type": "code",
   "execution_count": null,
   "id": "787666e1",
   "metadata": {
    "scrolled": false
   },
   "outputs": [],
   "source": [
    "# Example 1: Data load from raw data file\n",
    "# The raw data file has been saved in the text format, it is really usedful for checking when one uses excel \n",
    "# spreadsheet but it is not computer friendly.  As you can see in the following lines, the output show the \n",
    "# header are all in one cell.\n",
    "\n",
    "# Note that pd.read_csv is used because we imported pandas as pd\n",
    "df_1 = pd.read_csv(\"../data/Kelmarsh_SCADA_2022/SCADA/Turbine_Data_Kelmarsh_1_2022-01-01_-_2023-01-01_228.csv\")\n",
    "# Display the first few rows of the dataframe to confirm it loaded correctly\n",
    "df_1.head()"
   ]
  },
  {
   "cell_type": "code",
   "execution_count": 45,
   "id": "7fd181d7",
   "metadata": {},
   "outputs": [
    {
     "name": "stdout",
     "output_type": "stream",
     "text": [
      "<class 'pandas.core.frame.DataFrame'>\n"
     ]
    }
   ],
   "source": [
    "# Example 2: Data load from clean and well format data file\n",
    "# The name of each column follows the requirement of name above, i.e., remore \"\", spaces, add _, etc.. And all data unit are saved in a separate .txt file\n",
    "# named data.txt in ./data/Kelmarsh_SCADA_2022_clean/data.txt\n",
    "\n",
    "df_2 = pd.read_csv(\"../data/Kelmarsh_SCADA_2022_clean/SCADA/Turbine_Data_Kelmarsh_1_2022-01-01_-_2023-01-01_228.csv\")\n",
    "print(type(df_2))"
   ]
  },
  {
   "cell_type": "code",
   "execution_count": 46,
   "id": "d78cc941",
   "metadata": {},
   "outputs": [
    {
     "data": {
      "text/html": [
       "<div>\n",
       "<style scoped>\n",
       "    .dataframe tbody tr th:only-of-type {\n",
       "        vertical-align: middle;\n",
       "    }\n",
       "\n",
       "    .dataframe tbody tr th {\n",
       "        vertical-align: top;\n",
       "    }\n",
       "\n",
       "    .dataframe thead th {\n",
       "        text-align: right;\n",
       "    }\n",
       "</style>\n",
       "<table border=\"1\" class=\"dataframe\">\n",
       "  <thead>\n",
       "    <tr style=\"text-align: right;\">\n",
       "      <th></th>\n",
       "      <th>Date_and_time</th>\n",
       "      <th>Wind_speed</th>\n",
       "      <th>Wind_speed_Standard_deviation</th>\n",
       "      <th>Wind_speed_Minimum</th>\n",
       "      <th>Wind_speed_Maximum</th>\n",
       "      <th>Long_Term_Wind</th>\n",
       "      <th>Wind_speed_Sensor_1</th>\n",
       "      <th>Wind_speed_Sensor_1_Standard_deviation</th>\n",
       "      <th>Wind_speed_Sensor_1_Minimum</th>\n",
       "      <th>Wind_speed_Sensor_1_Maximum</th>\n",
       "      <th>...</th>\n",
       "      <th>Tower_Acceleration_Y</th>\n",
       "      <th>Tower_Acceleration_X_Min</th>\n",
       "      <th>Tower_Acceleration_X_Max</th>\n",
       "      <th>Tower_Acceleration_Y_Min</th>\n",
       "      <th>Tower_Acceleration_Y_Max</th>\n",
       "      <th>Drive_train_acceleration_Max</th>\n",
       "      <th>Drive_train_acceleration_Min</th>\n",
       "      <th>Drive_train_acceleration_StdDev</th>\n",
       "      <th>Tower_Acceleration_X_StdDev</th>\n",
       "      <th>Tower_Acceleration_Y_StdDev</th>\n",
       "    </tr>\n",
       "  </thead>\n",
       "  <tbody>\n",
       "    <tr>\n",
       "      <th>21741</th>\n",
       "      <td>2022-05-31 23:30:00</td>\n",
       "      <td>6.916561</td>\n",
       "      <td>0.385516</td>\n",
       "      <td>6.142765</td>\n",
       "      <td>7.719093</td>\n",
       "      <td>5.77</td>\n",
       "      <td>7.151657</td>\n",
       "      <td>0.433067</td>\n",
       "      <td>6.112714</td>\n",
       "      <td>7.947176</td>\n",
       "      <td>...</td>\n",
       "      <td>22.404923</td>\n",
       "      <td>5.743542</td>\n",
       "      <td>50.406086</td>\n",
       "      <td>5.979864</td>\n",
       "      <td>40.542759</td>\n",
       "      <td>5.821416</td>\n",
       "      <td>5.821416</td>\n",
       "      <td>0.0</td>\n",
       "      <td>13.074990</td>\n",
       "      <td>9.055549</td>\n",
       "    </tr>\n",
       "    <tr>\n",
       "      <th>21742</th>\n",
       "      <td>2022-05-31 23:40:00</td>\n",
       "      <td>7.388123</td>\n",
       "      <td>0.402110</td>\n",
       "      <td>6.769064</td>\n",
       "      <td>8.058786</td>\n",
       "      <td>5.77</td>\n",
       "      <td>7.796739</td>\n",
       "      <td>0.424846</td>\n",
       "      <td>7.004131</td>\n",
       "      <td>8.679587</td>\n",
       "      <td>...</td>\n",
       "      <td>24.329538</td>\n",
       "      <td>7.988346</td>\n",
       "      <td>40.082458</td>\n",
       "      <td>4.106116</td>\n",
       "      <td>38.735798</td>\n",
       "      <td>5.981767</td>\n",
       "      <td>5.981767</td>\n",
       "      <td>0.0</td>\n",
       "      <td>8.819219</td>\n",
       "      <td>8.969511</td>\n",
       "    </tr>\n",
       "    <tr>\n",
       "      <th>21743</th>\n",
       "      <td>2022-05-31 23:50:00</td>\n",
       "      <td>7.240626</td>\n",
       "      <td>0.439718</td>\n",
       "      <td>5.902195</td>\n",
       "      <td>7.941100</td>\n",
       "      <td>5.77</td>\n",
       "      <td>7.469474</td>\n",
       "      <td>0.470898</td>\n",
       "      <td>6.618015</td>\n",
       "      <td>8.553262</td>\n",
       "      <td>...</td>\n",
       "      <td>17.619743</td>\n",
       "      <td>5.721652</td>\n",
       "      <td>38.566833</td>\n",
       "      <td>3.235473</td>\n",
       "      <td>34.269203</td>\n",
       "      <td>6.321703</td>\n",
       "      <td>6.321703</td>\n",
       "      <td>0.0</td>\n",
       "      <td>8.954681</td>\n",
       "      <td>8.423942</td>\n",
       "    </tr>\n",
       "  </tbody>\n",
       "</table>\n",
       "<p>3 rows × 303 columns</p>\n",
       "</div>"
      ],
      "text/plain": [
       "             Date_and_time  Wind_speed  Wind_speed_Standard_deviation  \\\n",
       "21741  2022-05-31 23:30:00    6.916561                       0.385516   \n",
       "21742  2022-05-31 23:40:00    7.388123                       0.402110   \n",
       "21743  2022-05-31 23:50:00    7.240626                       0.439718   \n",
       "\n",
       "       Wind_speed_Minimum  Wind_speed_Maximum  Long_Term_Wind  \\\n",
       "21741            6.142765            7.719093            5.77   \n",
       "21742            6.769064            8.058786            5.77   \n",
       "21743            5.902195            7.941100            5.77   \n",
       "\n",
       "       Wind_speed_Sensor_1  Wind_speed_Sensor_1_Standard_deviation  \\\n",
       "21741             7.151657                                0.433067   \n",
       "21742             7.796739                                0.424846   \n",
       "21743             7.469474                                0.470898   \n",
       "\n",
       "       Wind_speed_Sensor_1_Minimum  Wind_speed_Sensor_1_Maximum  ...  \\\n",
       "21741                     6.112714                     7.947176  ...   \n",
       "21742                     7.004131                     8.679587  ...   \n",
       "21743                     6.618015                     8.553262  ...   \n",
       "\n",
       "       Tower_Acceleration_Y  Tower_Acceleration_X_Min  \\\n",
       "21741             22.404923                  5.743542   \n",
       "21742             24.329538                  7.988346   \n",
       "21743             17.619743                  5.721652   \n",
       "\n",
       "       Tower_Acceleration_X_Max  Tower_Acceleration_Y_Min  \\\n",
       "21741                 50.406086                  5.979864   \n",
       "21742                 40.082458                  4.106116   \n",
       "21743                 38.566833                  3.235473   \n",
       "\n",
       "       Tower_Acceleration_Y_Max  Drive_train_acceleration_Max  \\\n",
       "21741                 40.542759                      5.821416   \n",
       "21742                 38.735798                      5.981767   \n",
       "21743                 34.269203                      6.321703   \n",
       "\n",
       "       Drive_train_acceleration_Min  Drive_train_acceleration_StdDev  \\\n",
       "21741                      5.821416                              0.0   \n",
       "21742                      5.981767                              0.0   \n",
       "21743                      6.321703                              0.0   \n",
       "\n",
       "       Tower_Acceleration_X_StdDev  Tower_Acceleration_Y_StdDev  \n",
       "21741                    13.074990                     9.055549  \n",
       "21742                     8.819219                     8.969511  \n",
       "21743                     8.954681                     8.423942  \n",
       "\n",
       "[3 rows x 303 columns]"
      ]
     },
     "execution_count": 46,
     "metadata": {},
     "output_type": "execute_result"
    }
   ],
   "source": [
    "# Display the first and last few rows of the dataframe\n",
    "df_2.head(3)\n",
    "df_2.tail(3)"
   ]
  },
  {
   "cell_type": "markdown",
   "id": "ee979719",
   "metadata": {},
   "source": [
    "IV. Data presentation\n",
    "\n",
    "Data stored in a DataFrame or a Python object affects what we can do with it and the outputs of calculations as well. There are two main types of data that we will explore in this lesson: numeric and text data types.\n",
    "\n",
    "We now start with a basic understanding of numeric and text data types, let’s explore the format of our data. We’ll be working with the same .csv dataset that we’ve used in previous lessons.\n",
    "\n",
    "Then we learn how to check each data feature, slice data frame, and data visualisation. We also have a brief overview of how to deal with missing data, i.e., using 0 for leaving blank cell for empty data.\n",
    "\n"
   ]
  },
  {
   "cell_type": "markdown",
   "id": "37595c59",
   "metadata": {},
   "source": [
    "4.1. Checking the format of data"
   ]
  },
  {
   "cell_type": "code",
   "execution_count": 47,
   "id": "1e6eb8e0",
   "metadata": {},
   "outputs": [
    {
     "name": "stdout",
     "output_type": "stream",
     "text": [
      "Date_and_time                       object\n",
      "Wind_speed                         float64\n",
      "Wind_speed_Standard_deviation      float64\n",
      "Wind_speed_Minimum                 float64\n",
      "Wind_speed_Maximum                 float64\n",
      "                                    ...   \n",
      "Drive_train_acceleration_Max       float64\n",
      "Drive_train_acceleration_Min       float64\n",
      "Drive_train_acceleration_StdDev    float64\n",
      "Tower_Acceleration_X_StdDev        float64\n",
      "Tower_Acceleration_Y_StdDev        float64\n",
      "Length: 303, dtype: object\n"
     ]
    }
   ],
   "source": [
    "# Exploring data type\n",
    "print(df_2.dtypes)\n",
    "\n",
    "# Show header of each column\n",
    "# for column in df_2.columns:\n",
    "#     print(column)"
   ]
  },
  {
   "cell_type": "code",
   "execution_count": 48,
   "id": "551c95ec",
   "metadata": {},
   "outputs": [
    {
     "name": "stdout",
     "output_type": "stream",
     "text": [
      "Data columns Index(['Date_and_time', 'Wind_speed', 'Wind_speed_Standard_deviation',\n",
      "       'Wind_speed_Minimum', 'Wind_speed_Maximum', 'Long_Term_Wind',\n",
      "       'Wind_speed_Sensor_1', 'Wind_speed_Sensor_1_Standard_deviation',\n",
      "       'Wind_speed_Sensor_1_Minimum', 'Wind_speed_Sensor_1_Maximum',\n",
      "       ...\n",
      "       'Tower_Acceleration_Y', 'Tower_Acceleration_X_Min',\n",
      "       'Tower_Acceleration_X_Max', 'Tower_Acceleration_Y_Min',\n",
      "       'Tower_Acceleration_Y_Max', 'Drive_train_acceleration_Max',\n",
      "       'Drive_train_acceleration_Min', 'Drive_train_acceleration_StdDev',\n",
      "       'Tower_Acceleration_X_StdDev', 'Tower_Acceleration_Y_StdDev'],\n",
      "      dtype='object', length=303)\n",
      "Data shape (21744, 303)\n"
     ]
    }
   ],
   "source": [
    "# Other useful attributes and functions\n",
    "print('Data columns',df_2.columns)\n",
    "print('Data shape', df_2.shape)"
   ]
  },
  {
   "cell_type": "code",
   "execution_count": 49,
   "id": "f4956f57",
   "metadata": {},
   "outputs": [
    {
     "data": {
      "text/plain": [
       "count                   21744\n",
       "unique                  21744\n",
       "top       2022-01-01 00:00:00\n",
       "freq                        1\n",
       "Name: Date_and_time, dtype: object"
      ]
     },
     "execution_count": 49,
     "metadata": {},
     "output_type": "execute_result"
    }
   ],
   "source": [
    "# Access column\n",
    "df_2['Date_and_time'].describe()"
   ]
  },
  {
   "cell_type": "markdown",
   "id": "3e8a8333",
   "metadata": {},
   "source": [
    "4.2 Slicing and indexing data\n",
    "\n",
    "We can select specific ranges of our data in both the row and column directions using either label or integer-based indexing.\n",
    "\n",
    "iloc is primarily an integer based indexing counting from 0. That is, your specify rows and columns giving a number. Thus, the first row is row 0, the second column is column 1, etc. For example, syntax for iloc: data.iloc[row, column]\n",
    "\n",
    "loc is primarily a label based indexing where you can refer to rows and columns by their name. E.g., column ‘month’. Note that integers may be used, but they are interpreted as a label."
   ]
  },
  {
   "cell_type": "code",
   "execution_count": 50,
   "id": "d088910d",
   "metadata": {},
   "outputs": [
    {
     "data": {
      "text/plain": [
       "0        6.781222\n",
       "1        6.936052\n",
       "2        7.294642\n",
       "3        8.080467\n",
       "4        7.021328\n",
       "           ...   \n",
       "21739    6.321411\n",
       "21740    6.893544\n",
       "21741    6.916561\n",
       "21742    7.388123\n",
       "21743    7.240626\n",
       "Name: Wind_speed, Length: 21744, dtype: float64"
      ]
     },
     "execution_count": 50,
     "metadata": {},
     "output_type": "execute_result"
    }
   ],
   "source": [
    "# Selecting data using labels (Column Headings)\n",
    "# TIP: use the .head() method we saw earlier to make output shorter\n",
    "\n",
    "# Method 1: select a 'subset' of the data using the column name\n",
    "df_2['Wind_speed']\n",
    "\n",
    "# Method 2: use the column name as an 'attribute'; gives the same output\n",
    "df_2.Wind_speed"
   ]
  },
  {
   "cell_type": "code",
   "execution_count": 51,
   "id": "5a9b41a5",
   "metadata": {},
   "outputs": [],
   "source": [
    "# Creates an object, wind_speed, that only contains the `Wind_speed` column\n",
    "wind_speed = df_2['Wind_speed']"
   ]
  },
  {
   "cell_type": "code",
   "execution_count": 52,
   "id": "f10beca6",
   "metadata": {},
   "outputs": [
    {
     "data": {
      "text/html": [
       "<div>\n",
       "<style scoped>\n",
       "    .dataframe tbody tr th:only-of-type {\n",
       "        vertical-align: middle;\n",
       "    }\n",
       "\n",
       "    .dataframe tbody tr th {\n",
       "        vertical-align: top;\n",
       "    }\n",
       "\n",
       "    .dataframe thead th {\n",
       "        text-align: right;\n",
       "    }\n",
       "</style>\n",
       "<table border=\"1\" class=\"dataframe\">\n",
       "  <thead>\n",
       "    <tr style=\"text-align: right;\">\n",
       "      <th></th>\n",
       "      <th>Wind_speed</th>\n",
       "      <th>Wind_speed_Standard_deviation</th>\n",
       "      <th>Wind_speed_Minimum</th>\n",
       "    </tr>\n",
       "  </thead>\n",
       "  <tbody>\n",
       "    <tr>\n",
       "      <th>0</th>\n",
       "      <td>6.781222</td>\n",
       "      <td>1.182439</td>\n",
       "      <td>4.505924</td>\n",
       "    </tr>\n",
       "    <tr>\n",
       "      <th>1</th>\n",
       "      <td>6.936052</td>\n",
       "      <td>1.287222</td>\n",
       "      <td>4.713081</td>\n",
       "    </tr>\n",
       "    <tr>\n",
       "      <th>2</th>\n",
       "      <td>7.294642</td>\n",
       "      <td>1.430000</td>\n",
       "      <td>4.671873</td>\n",
       "    </tr>\n",
       "  </tbody>\n",
       "</table>\n",
       "</div>"
      ],
      "text/plain": [
       "   Wind_speed  Wind_speed_Standard_deviation  Wind_speed_Minimum\n",
       "0    6.781222                       1.182439            4.505924\n",
       "1    6.936052                       1.287222            4.713081\n",
       "2    7.294642                       1.430000            4.671873"
      ]
     },
     "execution_count": 52,
     "metadata": {},
     "output_type": "execute_result"
    }
   ],
   "source": [
    "# iloc[row slicing, column slicing]\n",
    "df_2.iloc[0:3, 1:4]"
   ]
  },
  {
   "cell_type": "code",
   "execution_count": 53,
   "id": "77bbcce1",
   "metadata": {},
   "outputs": [
    {
     "data": {
      "text/html": [
       "<div>\n",
       "<style scoped>\n",
       "    .dataframe tbody tr th:only-of-type {\n",
       "        vertical-align: middle;\n",
       "    }\n",
       "\n",
       "    .dataframe tbody tr th {\n",
       "        vertical-align: top;\n",
       "    }\n",
       "\n",
       "    .dataframe thead th {\n",
       "        text-align: right;\n",
       "    }\n",
       "</style>\n",
       "<table border=\"1\" class=\"dataframe\">\n",
       "  <thead>\n",
       "    <tr style=\"text-align: right;\">\n",
       "      <th></th>\n",
       "      <th>Date_and_time</th>\n",
       "      <th>Wind_speed</th>\n",
       "      <th>Wind_speed_Standard_deviation</th>\n",
       "      <th>Wind_speed_Minimum</th>\n",
       "      <th>Wind_speed_Maximum</th>\n",
       "      <th>Long_Term_Wind</th>\n",
       "      <th>Wind_speed_Sensor_1</th>\n",
       "      <th>Wind_speed_Sensor_1_Standard_deviation</th>\n",
       "      <th>Wind_speed_Sensor_1_Minimum</th>\n",
       "      <th>Wind_speed_Sensor_1_Maximum</th>\n",
       "      <th>...</th>\n",
       "      <th>Tower_Acceleration_Y</th>\n",
       "      <th>Tower_Acceleration_X_Min</th>\n",
       "      <th>Tower_Acceleration_X_Max</th>\n",
       "      <th>Tower_Acceleration_Y_Min</th>\n",
       "      <th>Tower_Acceleration_Y_Max</th>\n",
       "      <th>Drive_train_acceleration_Max</th>\n",
       "      <th>Drive_train_acceleration_Min</th>\n",
       "      <th>Drive_train_acceleration_StdDev</th>\n",
       "      <th>Tower_Acceleration_X_StdDev</th>\n",
       "      <th>Tower_Acceleration_Y_StdDev</th>\n",
       "    </tr>\n",
       "  </thead>\n",
       "  <tbody>\n",
       "    <tr>\n",
       "      <th>0</th>\n",
       "      <td>2022-01-01 00:00:00</td>\n",
       "      <td>6.781222</td>\n",
       "      <td>1.182439</td>\n",
       "      <td>4.505924</td>\n",
       "      <td>9.139866</td>\n",
       "      <td>7.21</td>\n",
       "      <td>7.415374</td>\n",
       "      <td>1.016232</td>\n",
       "      <td>5.720557</td>\n",
       "      <td>9.681675</td>\n",
       "      <td>...</td>\n",
       "      <td>27.626157</td>\n",
       "      <td>7.914244</td>\n",
       "      <td>108.874825</td>\n",
       "      <td>7.403433</td>\n",
       "      <td>51.216099</td>\n",
       "      <td>9.236889</td>\n",
       "      <td>9.236889</td>\n",
       "      <td>0.0</td>\n",
       "      <td>26.858551</td>\n",
       "      <td>11.422541</td>\n",
       "    </tr>\n",
       "    <tr>\n",
       "      <th>10</th>\n",
       "      <td>2022-01-01 01:40:00</td>\n",
       "      <td>7.767745</td>\n",
       "      <td>1.164376</td>\n",
       "      <td>5.909249</td>\n",
       "      <td>10.125535</td>\n",
       "      <td>7.21</td>\n",
       "      <td>8.440160</td>\n",
       "      <td>1.347772</td>\n",
       "      <td>6.200043</td>\n",
       "      <td>11.173137</td>\n",
       "      <td>...</td>\n",
       "      <td>39.274715</td>\n",
       "      <td>29.320423</td>\n",
       "      <td>153.692322</td>\n",
       "      <td>10.233137</td>\n",
       "      <td>64.435127</td>\n",
       "      <td>10.457696</td>\n",
       "      <td>10.457696</td>\n",
       "      <td>0.0</td>\n",
       "      <td>30.559143</td>\n",
       "      <td>14.352029</td>\n",
       "    </tr>\n",
       "    <tr>\n",
       "      <th>21743</th>\n",
       "      <td>2022-05-31 23:50:00</td>\n",
       "      <td>7.240626</td>\n",
       "      <td>0.439718</td>\n",
       "      <td>5.902195</td>\n",
       "      <td>7.941100</td>\n",
       "      <td>5.77</td>\n",
       "      <td>7.469474</td>\n",
       "      <td>0.470898</td>\n",
       "      <td>6.618015</td>\n",
       "      <td>8.553262</td>\n",
       "      <td>...</td>\n",
       "      <td>17.619743</td>\n",
       "      <td>5.721652</td>\n",
       "      <td>38.566833</td>\n",
       "      <td>3.235473</td>\n",
       "      <td>34.269203</td>\n",
       "      <td>6.321703</td>\n",
       "      <td>6.321703</td>\n",
       "      <td>0.0</td>\n",
       "      <td>8.954681</td>\n",
       "      <td>8.423942</td>\n",
       "    </tr>\n",
       "  </tbody>\n",
       "</table>\n",
       "<p>3 rows × 303 columns</p>\n",
       "</div>"
      ],
      "text/plain": [
       "             Date_and_time  Wind_speed  Wind_speed_Standard_deviation  \\\n",
       "0      2022-01-01 00:00:00    6.781222                       1.182439   \n",
       "10     2022-01-01 01:40:00    7.767745                       1.164376   \n",
       "21743  2022-05-31 23:50:00    7.240626                       0.439718   \n",
       "\n",
       "       Wind_speed_Minimum  Wind_speed_Maximum  Long_Term_Wind  \\\n",
       "0                4.505924            9.139866            7.21   \n",
       "10               5.909249           10.125535            7.21   \n",
       "21743            5.902195            7.941100            5.77   \n",
       "\n",
       "       Wind_speed_Sensor_1  Wind_speed_Sensor_1_Standard_deviation  \\\n",
       "0                 7.415374                                1.016232   \n",
       "10                8.440160                                1.347772   \n",
       "21743             7.469474                                0.470898   \n",
       "\n",
       "       Wind_speed_Sensor_1_Minimum  Wind_speed_Sensor_1_Maximum  ...  \\\n",
       "0                         5.720557                     9.681675  ...   \n",
       "10                        6.200043                    11.173137  ...   \n",
       "21743                     6.618015                     8.553262  ...   \n",
       "\n",
       "       Tower_Acceleration_Y  Tower_Acceleration_X_Min  \\\n",
       "0                 27.626157                  7.914244   \n",
       "10                39.274715                 29.320423   \n",
       "21743             17.619743                  5.721652   \n",
       "\n",
       "       Tower_Acceleration_X_Max  Tower_Acceleration_Y_Min  \\\n",
       "0                    108.874825                  7.403433   \n",
       "10                   153.692322                 10.233137   \n",
       "21743                 38.566833                  3.235473   \n",
       "\n",
       "       Tower_Acceleration_Y_Max  Drive_train_acceleration_Max  \\\n",
       "0                     51.216099                      9.236889   \n",
       "10                    64.435127                     10.457696   \n",
       "21743                 34.269203                      6.321703   \n",
       "\n",
       "       Drive_train_acceleration_Min  Drive_train_acceleration_StdDev  \\\n",
       "0                          9.236889                              0.0   \n",
       "10                        10.457696                              0.0   \n",
       "21743                      6.321703                              0.0   \n",
       "\n",
       "       Tower_Acceleration_X_StdDev  Tower_Acceleration_Y_StdDev  \n",
       "0                        26.858551                    11.422541  \n",
       "10                       30.559143                    14.352029  \n",
       "21743                     8.954681                     8.423942  \n",
       "\n",
       "[3 rows x 303 columns]"
      ]
     },
     "execution_count": 53,
     "metadata": {},
     "output_type": "execute_result"
    }
   ],
   "source": [
    "# Let’s explore some other ways to index and select subsets of data:\n",
    "\n",
    "# Select all columns for rows of index values 0 and 10\n",
    "df_2.loc[[0, 10], :]\n",
    "\n",
    "# What does this do?\n",
    "df_2.loc[0, ['Date_and_time', 'Wind_speed', 'Wind_speed_Standard_deviation']]\n",
    "\n",
    "# What happens when you type the code below?\n",
    "df_2.loc[[0, 10, 21743], :]"
   ]
  },
  {
   "cell_type": "code",
   "execution_count": 54,
   "id": "8a922c77",
   "metadata": {},
   "outputs": [
    {
     "data": {
      "text/plain": [
       "8.025126481056214"
      ]
     },
     "execution_count": 54,
     "metadata": {},
     "output_type": "execute_result"
    }
   ],
   "source": [
    "df_2.iloc[2, 6]"
   ]
  },
  {
   "cell_type": "markdown",
   "id": "ecc29b58",
   "metadata": {},
   "source": [
    "4.3 Missing Data Values\n",
    "\n",
    "NaN values are undefined values that cannot be represented mathematically. pandas, for example, will read an empty cell in a CSV or Excel sheet as NaN. NaNs have some desirable properties: if we were to average the weight column without replacing our NaNs, Python would know to skip over those cells.\n",
    "\n",
    "In the following example, we can figure out how many rows contain NaN values for Wind_speed. Then, we can replace all NaN values with zeroes using the .fillna() method (after making a copy of the data so we don’t lose our work). We can fill NaN values with any value that we chose. The code in cell [18] fills all NaN values with a mean for all Wind_speed values.\n",
    "\n",
    "Finally, we will plot the data Wind_speed and Power."
   ]
  },
  {
   "cell_type": "code",
   "execution_count": 55,
   "id": "08430bca",
   "metadata": {},
   "outputs": [
    {
     "name": "stdout",
     "output_type": "stream",
     "text": [
      "15\n"
     ]
    },
    {
     "data": {
      "text/plain": [
       "21713"
      ]
     },
     "execution_count": 55,
     "metadata": {},
     "output_type": "execute_result"
    }
   ],
   "source": [
    "# Where are the NAN's\n",
    "\n",
    "print(len(df_2[df_2['Wind_speed'].isna()]))\n",
    "# How many rows have weight values?\n",
    "len(df_2[df_2['Wind_speed'] > 0])"
   ]
  },
  {
   "cell_type": "code",
   "execution_count": 56,
   "id": "a6ce64c1",
   "metadata": {},
   "outputs": [],
   "source": [
    "# We can replace all NaN values with zeroes using the .fillna() method \n",
    "# (after making a copy of the data so we don’t lose our work):\n",
    "\n",
    "df_2_copied = df_2.copy()\n",
    "# Fill all NaN values with 0\n",
    "df_2_copied['Wind_speed'] = df_2['Wind_speed'].fillna(0)"
   ]
  },
  {
   "cell_type": "code",
   "execution_count": 57,
   "id": "8bb5e5d5",
   "metadata": {},
   "outputs": [
    {
     "name": "stdout",
     "output_type": "stream",
     "text": [
      "Mean Wind speed before fill:  6.363374021686927\n",
      "Mean Wind speed after fill:  6.358984276914793\n"
     ]
    }
   ],
   "source": [
    "print('Mean Wind speed before fill: ', df_2['Wind_speed'].mean())\n",
    "\n",
    "print('Mean Wind speed after fill: ', df_2_copied['Wind_speed'].mean())\n"
   ]
  },
  {
   "cell_type": "code",
   "execution_count": 58,
   "id": "201c6c8e",
   "metadata": {},
   "outputs": [
    {
     "name": "stdout",
     "output_type": "stream",
     "text": [
      "Mean Wind speed before fill:  6.363374021686927\n",
      "Mean Wind speed after fill:  6.363374021686927\n"
     ]
    }
   ],
   "source": [
    "# The code below fills all NaN values with a mean for all values.\n",
    "\n",
    "df_2_copied['Wind_speed'] = df_2['Wind_speed'].fillna(df_2['Wind_speed'].mean())\n",
    "\n",
    "print('Mean Wind speed before fill: ', df_2['Wind_speed'].mean())\n",
    "\n",
    "print('Mean Wind speed after fill: ', df_2_copied['Wind_speed'].mean())"
   ]
  },
  {
   "cell_type": "code",
   "execution_count": 59,
   "id": "f039d3ef",
   "metadata": {},
   "outputs": [
    {
     "data": {
      "image/png": "[encoded data removed]",
      "text/plain": [
       "<Figure size 640x480 with 1 Axes>"
      ]
     },
     "metadata": {},
     "output_type": "display_data"
    }
   ],
   "source": [
    "# Plot data\n",
    "%matplotlib inline\n",
    "plot_1 = df_2.plot(\"Wind_speed\", \"Power\", kind=\"scatter\")\n",
    "#3plt.show() # not necessary in Jupyter Notebooks"
   ]
  }
 ],
 "metadata": {
  "kernelspec": {
   "display_name": "Python 3 (ipykernel)",
   "language": "python",
   "name": "python3"
  },
  "language_info": {
   "codemirror_mode": {
    "name": "ipython",
    "version": 3
   },
   "file_extension": ".py",
   "mimetype": "text/x-python",
   "name": "python",
   "nbconvert_exporter": "python",
   "pygments_lexer": "ipython3",
   "version": "3.11.5"
  }
 },
 "nbformat": 4,
 "nbformat_minor": 5
}
